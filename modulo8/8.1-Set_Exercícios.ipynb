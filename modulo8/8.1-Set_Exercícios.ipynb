{
 "cells": [
  {
   "cell_type": "markdown",
   "id": "0d5035b5",
   "metadata": {},
   "source": [
    "# Set\n",
    "\n",
    "## Aula 8.1"
   ]
  },
  {
   "cell_type": "markdown",
   "id": "0bdece85",
   "metadata": {},
   "source": [
    "### Q1. \n",
    "\n",
    "Dada uma string qualquer, use seu conhecimento de sets para apresentar os caracteres únicos que aparecem na string, ordenados alfabeticamente e sem duplicatas. Preste atenção em duplicatas de maiúsculas e minúsculas.\n"
   ]
  },
  {
   "cell_type": "code",
   "execution_count": 1,
   "id": "0a258eba",
   "metadata": {},
   "outputs": [
    {
     "name": "stdout",
     "output_type": "stream",
     "text": [
      "[' ', 'a', 'b', 'd', 'e', 'n', 'o', 'p', 'r', 's', 't', 'u']\n"
     ]
    }
   ],
   "source": [
    "frase = \"O rato roeu a roupa do Robson\"\n",
    "\n",
    "## Implemente aqui sua solução\n",
    "frase = \"O rato roeu a roupa do Robson\"\n",
    "\n",
    "# Converter a frase toda para minúsculas\n",
    "frase_minuscula = frase.lower()\n",
    "\n",
    "# Criar um set com os caracteres da frase\n",
    "conjunto_caracteres = set(frase_minuscula)\n",
    "\n",
    "# Ordenar os caracteres do set e converter para lista\n",
    "caracteres_ordenados = sorted(conjunto_caracteres)\n",
    "\n",
    "# Imprimir os caracteres únicos e ordenados\n",
    "print(caracteres_ordenados)"
   ]
  },
  {
   "cell_type": "markdown",
   "id": "0856bd56",
   "metadata": {},
   "source": [
    "### Q2\n",
    "\n",
    "Desenvolva uma função em Python chamada ```tem_elementos_comuns()``` que recebe duas listas como parâmetros e retorna True se houver algum elemento comum entre as duas listas, e False caso contrário. Utilize sets para resolver essa tarefa."
   ]
  },
  {
   "cell_type": "code",
   "execution_count": 2,
   "id": "f7ab6736",
   "metadata": {},
   "outputs": [],
   "source": [
    "# Implemente aqui a função tem_elementos_comuns()\n",
    "def tem_elementos_comuns(lista1, lista2):\n",
    "  \"\"\"Verifica se duas listas possuem elementos em comum.\n",
    "\n",
    "  Args:\n",
    "    lista1: A primeira lista.\n",
    "    lista2: A segunda lista.\n",
    "\n",
    "  Returns:\n",
    "    True se houver elementos em comum, False caso contrário.\n",
    "  \"\"\"\n",
    "\n",
    "  # Converte as listas para sets para remover duplicatas e aproveitar as operações de conjuntos\n",
    "  set1 = set(lista1)\n",
    "  set2 = set(lista2)\n",
    "\n",
    "  # Verifica se a interseção entre os dois sets é vazia\n",
    "  return bool(set1.intersection(set2))\n",
    "\n",
    "\n",
    "\n"
   ]
  },
  {
   "cell_type": "code",
   "execution_count": 3,
   "id": "1022744a",
   "metadata": {},
   "outputs": [
    {
     "name": "stdout",
     "output_type": "stream",
     "text": [
      "True\n"
     ]
    }
   ],
   "source": [
    "# Execute esta célula para testar a função da Q2.\n",
    "\n",
    "lista1 = [1, 2, 3, 4]\n",
    "lista2 = [3, 4, 5, 6, 7]\n",
    "resultado = tem_elementos_comuns(lista1, lista2)\n",
    "print(resultado)  # Saída esperada: True"
   ]
  },
  {
   "cell_type": "markdown",
   "id": "649a5082",
   "metadata": {},
   "source": [
    "### Q3. \n",
    "\n",
    "Você vai coletar de diferentes turmas de alunos seus interesses em atividades extra curriculares dentre futebol, vôlei, rugby, música, teatro, ações comunitárias. Informe o conjunto de atividades comuns a todas a turmas. Pode preencher o iterável turmas com valores arbitrários. \n"
   ]
  },
  {
   "cell_type": "code",
   "execution_count": 4,
   "id": "880a9927",
   "metadata": {},
   "outputs": [
    {
     "name": "stdout",
     "output_type": "stream",
     "text": [
      "Atividades comuns a todas as turmas: {'rugby'}\n"
     ]
    }
   ],
   "source": [
    "turmas = [\n",
    "     {'ações comunitárias', 'futebol', 'música', 'rugby'},\n",
    "     {'ações comunitárias', 'música', 'rugby', 'teatro'},\n",
    "     {'música', 'rugby', 'teatro', 'vôlei'},\n",
    "     {'música', 'vôlei', 'rugby'},\n",
    "     {'ações comunitárias', 'futebol', 'rugby', 'teatro', 'vôlei'},\n",
    "     {'ações comunitárias', 'futebol', 'rugby'},\n",
    "     {'ações comunitárias', 'rugby', 'teatro', 'vôlei'},\n",
    "     {'ações comunitárias', 'rugby', 'teatro', 'vôlei'},\n",
    "     {'ações comunitárias', 'rugby', 'vôlei'}\n",
    "]\n",
    "\n",
    "# Inicializa um conjunto com todas as atividades da primeira turma\n",
    "atividades_comuns = set(turmas[0])\n",
    "\n",
    "# Itera sobre as demais turmas e realiza a interseção com o conjunto de atividades comuns\n",
    "for turma in turmas[1:]:\n",
    "    atividades_comuns &= turma\n",
    "\n",
    "# Imprime as atividades comuns a todas as turmas\n",
    "print(\"Atividades comuns a todas as turmas:\", atividades_comuns)\n",
    "\n"
   ]
  },
  {
   "cell_type": "markdown",
   "id": "021e2b1e",
   "metadata": {},
   "source": [
    "### Q4. \n",
    "Considere duas listas que são duplicatas uma da outra, exceto por um elemento, exemplo:\n",
    "```\n",
    "A = [1, 4, 5, 7, 9]\n",
    "B = [4, 5, 7, 9]\n",
    "```\n",
    "\n",
    "Encontre e apresente o elemento diferente, informando também qual das listas está desfalcada. Para o exemplo acima, a saída esperada é\n",
    "```\n",
    "O elemento 1 está faltando na segunda lista\n",
    "```"
   ]
  },
  {
   "cell_type": "code",
   "execution_count": 5,
   "id": "608761a4",
   "metadata": {},
   "outputs": [
    {
     "name": "stdout",
     "output_type": "stream",
     "text": [
      "O elemento 1 está faltando na lista 2\n"
     ]
    }
   ],
   "source": [
    "## Implemente aqui sua solução\n",
    "def encontrar_elemento_faltante(lista1, lista2):\n",
    "  \"\"\"Encontra o elemento que está presente em uma lista e ausente na outra.\n",
    "\n",
    "  Args:\n",
    "    lista1: A primeira lista.\n",
    "    lista2: A segunda lista.\n",
    "\n",
    "  Returns:\n",
    "    Uma tupla (elemento_faltante, lista_faltante), onde:\n",
    "      - elemento_faltante: O elemento que está faltando.\n",
    "      - lista_faltante: A lista na qual o elemento está faltando (1 ou 2).\n",
    "  \"\"\"\n",
    "\n",
    "  # Converte as listas para conjuntos para remover duplicatas e facilitar as operações\n",
    "  conjunto1 = set(lista1)\n",
    "  conjunto2 = set(lista2)\n",
    "\n",
    "  # Calcula a diferença simétrica entre os conjuntos\n",
    "  diferenca_simetrica = conjunto1 ^ conjunto2\n",
    "\n",
    "  # A diferença simétrica conterá apenas o elemento que está faltando em uma das listas\n",
    "  elemento_faltante = list(diferenca_simetrica)[0]\n",
    "\n",
    "  # Verifica em qual lista o elemento está faltando\n",
    "  if elemento_faltante in conjunto1:\n",
    "    lista_faltante = 2\n",
    "  else:\n",
    "    lista_faltante = 1\n",
    "\n",
    "  return elemento_faltante, lista_faltante\n",
    "\n",
    "# Exemplo de uso\n",
    "A = [1, 4, 5, 7, 9]\n",
    "B = [4, 5, 7, 9]\n",
    "\n",
    "resultado = encontrar_elemento_faltante(A, B)\n",
    "print(f\"O elemento {resultado[0]} está faltando na lista {resultado[1]}\")"
   ]
  },
  {
   "cell_type": "markdown",
   "id": "ddf180c1",
   "metadata": {},
   "source": [
    "### Q5.\n",
    "\n",
    "Panagramas são frases que contém todas as letras do alfabeto pelo menos uma vez. Crie uma função ```checa_panagrama``` que recebe uma string e retorna ```True``` caso seja um panagrama ou ```False```caso contrário. Use seu conhecimento de sets para solucionar essa questão.\n",
    "\n",
    "Ex: \n",
    "```\n",
    "Entrada: \"The quick brown fox jumps over the lazy dog\" \n",
    "Saída: É um panagrama\n",
    "```\n",
    "\n",
    "```\n",
    "Entrada: \"Python é uma linguagem de programação\" \n",
    "Saída: Não é um panagrama\n",
    "```"
   ]
  },
  {
   "cell_type": "code",
   "execution_count": 6,
   "id": "4e8b0390",
   "metadata": {},
   "outputs": [
    {
     "name": "stdout",
     "output_type": "stream",
     "text": [
      "The quick brown fox jumps over the lazy dog é um panagrama: False\n",
      "Python é uma linguagem de programação é um panagrama: False\n"
     ]
    }
   ],
   "source": [
    "## Implemente aqui sua solução\n",
    "def checa_panagrama(frase):\n",
    "  \"\"\"Verifica se uma frase é um panagrama.\n",
    "\n",
    "  Args:\n",
    "    frase: A frase a ser verificada.\n",
    "\n",
    "  Returns:\n",
    "    True se a frase for um panagrama, False caso contrário.\n",
    "  \"\"\"\n",
    "\n",
    "  # Cria um conjunto com todas as letras minúsculas do alfabeto em inglês\n",
    "  alfabeto = set('abcdefghijklmnopqrstuvwxyz')\n",
    "\n",
    "  # Cria um conjunto com as letras presentes na frase, convertendo tudo para minúsculo\n",
    "  letras_frase = set(frase.lower())\n",
    "\n",
    "  # Verifica se o conjunto das letras da frase é igual ao conjunto do alfabeto\n",
    "  return letras_frase == alfabeto\n",
    "\n",
    "# Exemplos de uso:\n",
    "frase1 = \"The quick brown fox jumps over the lazy dog\"\n",
    "frase2 = \"Python é uma linguagem de programação\"\n",
    "\n",
    "print(frase1, \"é um panagrama:\", checa_panagrama(frase1))\n",
    "print(frase2, \"é um panagrama:\", checa_panagrama(frase2))"
   ]
  }
 ],
 "metadata": {
  "kernelspec": {
   "display_name": "Python 3 (ipykernel)",
   "language": "python",
   "name": "python3"
  },
  "language_info": {
   "codemirror_mode": {
    "name": "ipython",
    "version": 3
   },
   "file_extension": ".py",
   "mimetype": "text/x-python",
   "name": "python",
   "nbconvert_exporter": "python",
   "pygments_lexer": "ipython3",
   "version": "3.12.2"
  }
 },
 "nbformat": 4,
 "nbformat_minor": 5
}
