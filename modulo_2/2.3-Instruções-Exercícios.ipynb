{
  "cells": [
    {
      "cell_type": "markdown",
      "metadata": {
        "id": "1pCTdOHonv5f"
      },
      "source": [
        "# Módulo 2\n",
        "\n",
        "## 2.3 Instruções e Expressões\n",
        "\n",
        "### Q1\n",
        "\n",
        "Faça um programa que armazene o valor de 20 reais de salário por hora de um trabalhador, e o número de 40 horas trabalhadas na semana. Com essas informações, calcule e imprima:\n",
        "- Salário semanal bruto\n",
        "- Valor descontado por semana INSS (10% do bruto)\n",
        "- Valor descontado por semana pelo sindicato (5% do bruto)\n",
        "- Salário semanal líquido (Bruto - Descontos)"
      ]
    },
    {
      "cell_type": "code",
      "execution_count": 26,
      "metadata": {
        "id": "hVbX0I97nj6M"
      },
      "outputs": [
        {
          "name": "stdout",
          "output_type": "stream",
          "text": [
            "salário semanal bruto:\n",
            "800.0\n",
            "valor descontado do inss:\n",
            "80.0\n",
            "valor descontado do sindicato:\n",
            "40.0\n",
            "descontos:\n",
            "120.0\n",
            "salário líquido:\n",
            "680.0\n"
          ]
        }
      ],
      "source": [
        "valor = 20.0\n",
        "horas = 40\n",
        "salario = ( valor * horas )\n",
        "print (\"salário semanal bruto:\" )\n",
        "print ( salario )\n",
        "inss = 10\n",
        "sindicato = 5\n",
        "print (\"valor descontado do inss:\")\n",
        "descontoinss = (salario / 100 * inss)\n",
        "print(descontoinss)\n",
        "print(\"valor descontado do sindicato:\")\n",
        "descontosindicato = (salario / 100 * sindicato)\n",
        "print(descontosindicato)\n",
        "descontos = (descontoinss + descontosindicato)\n",
        "print(\"descontos:\")\n",
        "print(descontos)\n",
        "salarioliquido = (salario - descontos)\n",
        "print(\"salário líquido:\")\n",
        "print(salarioliquido)"
      ]
    },
    {
      "cell_type": "markdown",
      "metadata": {
        "id": "pIxKX9J2oGZ1"
      },
      "source": [
        "### Q2\n",
        "\n",
        "Altere o programa anterior para a partir dos valores de horas trabalhadas por semana e salário por hora, calcular **em somente duas instruções**:\n",
        "- Salário semanal bruto\n",
        "- Salário semanal líquido com todos os descontos. Para a segunda instrução, realize todos os cálculos aritméticos em uma expressão composta.\n"
      ]
    },
    {
      "cell_type": "code",
      "execution_count": 39,
      "metadata": {
        "id": "pAHw9Xf9oGoi"
      },
      "outputs": [
        {
          "name": "stdout",
          "output_type": "stream",
          "text": [
            "valor da hora:\n",
            "20.0\n",
            "horas semanais:\n",
            "40\n",
            "salário semanal bruto:\n",
            "800.0\n",
            "inss:\n",
            "10\n",
            "sindicato:\n",
            "5\n",
            "salário líquido:\n",
            "680.0\n"
          ]
        }
      ],
      "source": [
        "x = 20.0\n",
        "print(\"valor da hora:\")\n",
        "print(x)\n",
        "y = 40\n",
        "print(\"horas semanais:\")\n",
        "print(y)\n",
        "z = ( x * y )\n",
        "print (\"salário semanal bruto:\" )\n",
        "print (z)\n",
        "a = 10\n",
        "print(\"inss:\")\n",
        "print(a)\n",
        "b = 5\n",
        "print(\"sindicato:\")\n",
        "print(b)\n",
        "salariocomdescontos= ((z)-(z/100)*(a+b))\n",
        "print(\"salário líquido:\")\n",
        "print(salariocomdescontos)"
      ]
    },
    {
      "cell_type": "markdown",
      "metadata": {
        "id": "m8tlHRuWpBOB"
      },
      "source": [
        "### Q3\n",
        "\n",
        "Você está desenvolvendo um software de conversão de moeda e precisa calcular o valor equivalente em yuan chinês a partir de uma quantia em real. A taxa de câmbio é de 0.69 BRL (real) para 1 CNY (yuan). Escreva um programa que define em uma variável uma quantia em reais (BRL) e calcula o valor equivalente em yuan (CNY). Imprima o resultado."
      ]
    },
    {
      "cell_type": "code",
      "execution_count": 48,
      "metadata": {
        "id": "2bPw7uF6oeL9"
      },
      "outputs": [
        {
          "name": "stdout",
          "output_type": "stream",
          "text": [
            "100 BRL é equivalente a:\n",
            "144.92753623188406\n",
            "CNY\n"
          ]
        }
      ],
      "source": [
        "BRL = 100    #BRL\n",
        "taxa = 0.69 #BRL para 1 CNY\n",
        "valor_yuan = (BRL/taxa)\n",
        "print(\"100 BRL é equivalente a:\")\n",
        "print(valor_yuan)\n",
        "print(\"CNY\")"
      ]
    },
    {
      "cell_type": "markdown",
      "metadata": {
        "id": "-Na3ltDCp74A"
      },
      "source": [
        "### Q4\n",
        "\n",
        "Você é um treinador de corrida e deseja calcular a velocidade média que um atleta precisa manter para completar a Maratona Internacional de São Silvestre, que tem uma distância total de 42.195 km. A fórmula para calcular a velocidade média ($v\\_media$) é dada por $v\\_media = \\frac{distancia}{tempo}$ . Escreva um programa em Python para calcular a velocidade média necessária para completar a maratona em 3 horas.\n",
        "\n",
        "**Calcule e imprima o resultado em metros/segundo**, ou seja, converta a distância de quilômetros para metros ($metro = \\frac{km}{1000}$) e a velocidade de horas para segundos $(segundo = \\frac{hora}{3600})$."
      ]
    },
    {
      "cell_type": "code",
      "execution_count": 66,
      "metadata": {
        "id": "Bn6l8kcSrE4L"
      },
      "outputs": [
        {
          "name": "stdout",
          "output_type": "stream",
          "text": [
            "horas convertida em segundos:\n",
            "10.8\n",
            "mil\n",
            "km convertido em metros:\n",
            "42.195\n",
            "milhões\n",
            "velocidade média:\n",
            "3.906944444444444\n",
            "metros por segundo\n"
          ]
        }
      ],
      "source": [
        "distancia = 42.195\n",
        "tempo_horas = 3\n",
        "segundos_horas = 3.600\n",
        "segundos = (tempo_horas*segundos_horas)\n",
        "print(\"horas convertida em segundos:\")\n",
        "print(segundos)\n",
        "print(\"mil\")\n",
        "metros_km = 1.000\n",
        "metros = (distancia*metros_km)\n",
        "print(\"km convertido em metros:\")\n",
        "print(metros)\n",
        "print(\"milhões\")\n",
        "velocidade_media = (metros/segundos)\n",
        "print(\"velocidade média:\")\n",
        "print(velocidade_media)\n",
        "print(\"metros por segundo\")"
      ]
    }
  ],
  "metadata": {
    "colab": {
      "provenance": []
    },
    "kernelspec": {
      "display_name": "Python 3",
      "name": "python3"
    },
    "language_info": {
      "codemirror_mode": {
        "name": "ipython",
        "version": 3
      },
      "file_extension": ".py",
      "mimetype": "text/x-python",
      "name": "python",
      "nbconvert_exporter": "python",
      "pygments_lexer": "ipython3",
      "version": "3.12.4"
    }
  },
  "nbformat": 4,
  "nbformat_minor": 0
}
