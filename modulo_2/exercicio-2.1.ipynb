{
 "cells": [
  {
   "cell_type": "code",
   "execution_count": 2,
   "metadata": {},
   "outputs": [
    {
     "name": "stdout",
     "output_type": "stream",
     "text": [
      "5\n",
      "2\n",
      "<class 'int'>\n",
      "<class 'int'>\n",
      "2.5\n",
      "<class 'float'>\n"
     ]
    }
   ],
   "source": [
    "x = 5\n",
    "y = 2\n",
    "print( x )\n",
    "print( y )\n",
    "print(type(x))\n",
    "print(type(y))\n",
    "z = x / y\n",
    "print( z )\n",
    "print(type(z))"
   ]
  },
  {
   "cell_type": "code",
   "execution_count": 4,
   "metadata": {},
   "outputs": [
    {
     "name": "stdout",
     "output_type": "stream",
     "text": [
      "10\n",
      "3.5\n",
      "13.5\n",
      "<class 'int'>\n",
      "<class 'str'>\n",
      "<class 'float'>\n",
      "<class 'float'>\n"
     ]
    }
   ],
   "source": [
    "texto = \" o resultado é :\"\n",
    "x = 10\n",
    "y = 3.5\n",
    "z = x + y\n",
    "print( x )\n",
    "print( y )\n",
    "print( z )\n",
    "print(type( x ))\n",
    "print(type( texto))\n",
    "print(type( y ))\n",
    "print(type( z ))\n"
   ]
  },
  {
   "cell_type": "code",
   "execution_count": 11,
   "metadata": {},
   "outputs": [
    {
     "name": "stdout",
     "output_type": "stream",
     "text": [
      " v1 é :\n",
      "10\n",
      "v2 é :\n",
      "20\n",
      "v1 após a troca de valores :\n",
      "20\n",
      "v2 após a troca de valores :\n",
      "10\n",
      "<class 'int'>\n",
      "<class 'int'>\n",
      "<class 'int'>\n"
     ]
    }
   ],
   "source": [
    "v1 = 10\n",
    "v2 = 20\n",
    "print(\" v1 é :\")\n",
    "print( v1 )\n",
    "print(\"v2 é :\")\n",
    "print( v2 )\n",
    "aux = v1\n",
    "v1 = v2\n",
    "v2 = aux\n",
    "print(\"v1 após a troca de valores :\")\n",
    "print( v1 )\n",
    "print(\"v2 após a troca de valores :\")\n",
    "print( v2 )\n",
    "print(type(v1))\n",
    "print(type(v2))\n",
    "print(type(aux))\n"
   ]
  },
  {
   "cell_type": "code",
   "execution_count": 8,
   "metadata": {},
   "outputs": [
    {
     "name": "stdout",
     "output_type": "stream",
     "text": [
      "500.0\n",
      "rendimento mês 1 :\n",
      "505.0\n",
      "rendimento mês 2 :\n",
      "510.05\n",
      " após 3 meses o meu rendimento é :\n",
      "515.1505\n",
      "<class 'float'>\n",
      "<class 'float'>\n"
     ]
    }
   ],
   "source": [
    "juros = 1.01\n",
    "saldo = 500.0\n",
    "print(saldo)\n",
    "saldo = saldo * juros\n",
    "print(\"rendimento mês 1 :\")\n",
    "print(saldo)\n",
    "saldo = saldo * juros\n",
    "print(\"rendimento mês 2 :\")\n",
    "print(saldo)\n",
    "saldo = saldo * juros\n",
    "print(\" após 3 meses o meu rendimento é :\")\n",
    "print(saldo) \n",
    "print(type(juros))\n",
    "print(type(saldo))\n"
   ]
  }
 ],
 "metadata": {
  "kernelspec": {
   "display_name": "Python 3",
   "language": "python",
   "name": "python3"
  },
  "language_info": {
   "codemirror_mode": {
    "name": "ipython",
    "version": 3
   },
   "file_extension": ".py",
   "mimetype": "text/x-python",
   "name": "python",
   "nbconvert_exporter": "python",
   "pygments_lexer": "ipython3",
   "version": "3.12.4"
  }
 },
 "nbformat": 4,
 "nbformat_minor": 2
}
