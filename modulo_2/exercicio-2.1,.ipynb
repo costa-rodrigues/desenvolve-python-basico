{
 "cells": [
  {
   "cell_type": "markdown",
   "metadata": {},
   "source": [
    "\n",
    "1) Transforme o seguinte algoritmo em código. Lembre-se das funções print e type que já conhecemos de forma geral.\n",
    "Armazene o valor 5 em uma variável e o valor 2 em outra variável\n",
    "Imprima o tipo de dados dessas duas variáveis\n",
    "Divida a primeira variável (com o valor 5) pela segunda variável (com o valor 2) e armazene o resultado em uma terceira variável\n",
    "Imprima a terceira variável e também o seu tipo."
   ]
  },
  {
   "cell_type": "code",
   "execution_count": 2,
   "metadata": {},
   "outputs": [
    {
     "name": "stdout",
     "output_type": "stream",
     "text": [
      "5\n",
      "2\n",
      "<class 'int'>\n",
      "<class 'int'>\n",
      "2.5\n",
      "<class 'float'>\n"
     ]
    }
   ],
   "source": [
    "x = 5\n",
    "y = 2\n",
    "print( x )\n",
    "print( y )\n",
    "print(type(x))\n",
    "print(type(y))\n",
    "z = x / y\n",
    "print( z )\n",
    "print(type(z))"
   ]
  },
  {
   "cell_type": "markdown",
   "metadata": {},
   "source": [
    "\n",
    "2) Transforme o seguinte algoritmo em código. Lembre-se das funções print e type que já conhecemos de forma geral.\n",
    "Armazene o texto \"o resultado é\"  em uma variável, o valor 10 em outra variável, e o valor 3.5 numa terceira variável.\n",
    "Some os valores da segunda e terceira variável e armazene em outra variável.\n",
    "Imprima todas as variáveis na ordem de criação e imprima também seus tipos\n"
   ]
  },
  {
   "cell_type": "code",
   "execution_count": 4,
   "metadata": {},
   "outputs": [
    {
     "name": "stdout",
     "output_type": "stream",
     "text": [
      "10\n",
      "3.5\n",
      "13.5\n",
      "<class 'int'>\n",
      "<class 'str'>\n",
      "<class 'float'>\n",
      "<class 'float'>\n"
     ]
    }
   ],
   "source": [
    "texto = \" o resultado é :\"\n",
    "x = 10\n",
    "y = 3.5\n",
    "z = x + y\n",
    "print( x )\n",
    "print( y )\n",
    "print( z )\n",
    "print(type( x ))\n",
    "print(type( texto))\n",
    "print(type( y ))\n",
    "print(type( z ))\n"
   ]
  },
  {
   "cell_type": "markdown",
   "metadata": {},
   "source": [
    "3) Dadas duas variáveis v1 = 10 e v2 = 20, utilize uma terceira variável para trocar os valores entre as duas variáveis. Ou seja, ao final v1 terá o valor de v2, e v2 o valor de v1. Você deve usar uma variável auxiliar de troca, não podendo atribuir os novos valores diretamente."
   ]
  },
  {
   "cell_type": "code",
   "execution_count": 11,
   "metadata": {},
   "outputs": [
    {
     "name": "stdout",
     "output_type": "stream",
     "text": [
      " v1 é :\n",
      "10\n",
      "v2 é :\n",
      "20\n",
      "v1 após a troca de valores :\n",
      "20\n",
      "v2 após a troca de valores :\n",
      "10\n",
      "<class 'int'>\n",
      "<class 'int'>\n",
      "<class 'int'>\n"
     ]
    }
   ],
   "source": [
    "v1 = 10\n",
    "v2 = 20\n",
    "print(\" v1 é :\")\n",
    "print( v1 )\n",
    "print(\"v2 é :\")\n",
    "print( v2 )\n",
    "aux = v1\n",
    "v1 = v2\n",
    "v2 = aux\n",
    "print(\"v1 após a troca de valores :\")\n",
    "print( v1 )\n",
    "print(\"v2 após a troca de valores :\")\n",
    "print( v2 )\n",
    "print(type(v1))\n",
    "print(type(v2))\n",
    "print(type(aux))\n"
   ]
  },
  {
   "cell_type": "markdown",
   "metadata": {},
   "source": [
    "4) Uma conta poupança foi aberta com um depósito de R$500,00. Esta conta é remunerada em 1% de juros ao mês. O código a seguir apresenta uma forma de implementação para calcular três meses de acúmulo de juros. Reescreva esse código usando apenas duas variáveis. \n",
    "\n",
    "juros = 1.01\n",
    "saldo = 500.0\n",
    "rendimento1 = saldo * juros\n",
    "rendimento2 = rendimento1 * juros\n",
    "rendimento3 = rendimento2 * juros\n",
    "print(\"Após 3 meses meu novo saldo é\")\n",
    "print(rendimento3)\n"
   ]
  },
  {
   "cell_type": "code",
   "execution_count": 8,
   "metadata": {},
   "outputs": [
    {
     "name": "stdout",
     "output_type": "stream",
     "text": [
      "500.0\n",
      "rendimento mês 1 :\n",
      "505.0\n",
      "rendimento mês 2 :\n",
      "510.05\n",
      " após 3 meses o meu rendimento é :\n",
      "515.1505\n",
      "<class 'float'>\n",
      "<class 'float'>\n"
     ]
    }
   ],
   "source": [
    "juros = 1.01\n",
    "saldo = 500.0\n",
    "print(saldo)\n",
    "saldo = saldo * juros\n",
    "print(\"rendimento mês 1 :\")\n",
    "print(saldo)\n",
    "saldo = saldo * juros\n",
    "print(\"rendimento mês 2 :\")\n",
    "print(saldo)\n",
    "saldo = saldo * juros\n",
    "print(\" após 3 meses o meu rendimento é :\")\n",
    "print(saldo) \n",
    "print(type(juros))\n",
    "print(type(saldo))\n"
   ]
  }
 ],
 "metadata": {
  "kernelspec": {
   "display_name": "Python 3",
   "language": "python",
   "name": "python3"
  },
  "language_info": {
   "codemirror_mode": {
    "name": "ipython",
    "version": 3
   },
   "file_extension": ".py",
   "mimetype": "text/x-python",
   "name": "python",
   "nbconvert_exporter": "python",
   "pygments_lexer": "ipython3",
   "version": "3.12.4"
  }
 },
 "nbformat": 4,
 "nbformat_minor": 2
}
