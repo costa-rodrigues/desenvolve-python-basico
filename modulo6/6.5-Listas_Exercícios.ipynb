{
 "cells": [
  {
   "cell_type": "markdown",
   "id": "0d5035b5",
   "metadata": {},
   "source": [
    "# Listas\n",
    "\n",
    "## Aulas 6.1 a 6.5 "
   ]
  },
  {
   "cell_type": "markdown",
   "id": "0bdece85",
   "metadata": {},
   "source": [
    "### Q1. \n",
    "\n",
    "Usando a função embutida ```map``` e criando uma função ```lambda```, transforme uma lista com os raios de múltiplas circunferências em uma nova lista com as respectivas áreas. O cálculo de cada área é dado por: ```pi*(raio**2)```\n",
    "- Use a constante pi da biblioteca math \n",
    "- Arredonde o resultado para 2 casas decimais\n"
   ]
  },
  {
   "cell_type": "code",
   "execution_count": 1,
   "id": "0a258eba",
   "metadata": {},
   "outputs": [
    {
     "data": {
      "text/plain": [
       "[7.07, 2.01, 16.62, 78.54]"
      ]
     },
     "execution_count": 1,
     "metadata": {},
     "output_type": "execute_result"
    }
   ],
   "source": [
    "## Complete a solução\n",
    "import math\n",
    "raios = [1.5, 0.8, 2.3, 5.0]\n",
    "areas = list(map(lambda r: round(math.pi*(r**2), 2), raios))\n",
    "areas\n",
    "\n"
   ]
  },
  {
   "cell_type": "markdown",
   "id": "649a5082",
   "metadata": {},
   "source": [
    "### Q2. \n",
    "\n",
    "Crie uma função customizada e aplique a função embutida ```filter``` para operar em uma lista de listas contendo os lados de múltiplos triângulos. Construa uma nova lista contendo apenas os triângulos equiláteros, ou seja, com os três lados iguais.\n"
   ]
  },
  {
   "cell_type": "code",
   "execution_count": 8,
   "id": "47cb0573",
   "metadata": {},
   "outputs": [
    {
     "data": {
      "text/plain": [
       "[[2, 2, 2], [4, 4, 4]]"
      ]
     },
     "execution_count": 8,
     "metadata": {},
     "output_type": "execute_result"
    }
   ],
   "source": [
    "## Crie a função customizada\n",
    "def testa_equilatero(lados):\n",
    "    if lados[0] == lados[1] and lados[1] == lados[2]:\n",
    "        return True\n",
    "    return False\n",
    "    \n",
    "\n",
    "### Usando filter, aplique a função customizada aos seguintes triangulos\n",
    "triangulos  = [[2,2,2], [3,4,5], [3,2,2],[4,4,4]]\n",
    "equilatero = list(filter(testa_equilatero, triangulos))\n",
    "equilatero"
   ]
  },
  {
   "cell_type": "markdown",
   "id": "bb62d219",
   "metadata": {},
   "source": [
    "### Q3. \n",
    "Crie uma função chamada ```ordena_por_comprimento``` que aceite uma lista de strings e a ordene com base no comprimento das strings, do menor para o maior. Utilize a função ```sorte``` e uma expressão ```lambda```."
   ]
  },
  {
   "cell_type": "code",
   "execution_count": 10,
   "id": "add41556",
   "metadata": {},
   "outputs": [
    {
     "name": "stdout",
     "output_type": "stream",
     "text": [
      "['Sol', 'Joao', 'Jose', 'Luna', 'Enzo', 'Maria', 'Bento', 'Gabriela', 'Fernanda']\n"
     ]
    }
   ],
   "source": [
    "### crie a função ordena_por_comprimento e retorne a lista resultado\n",
    "def ordena_por_comprimento(lista):\n",
    "    return sorted(lista, key=lambda x: len(x))\n",
    "\n",
    "# Exemplo de uso:\n",
    "lista_de_palavras = [\"Joao\", \"Maria\", \"Jose\", \"Gabriela\", \"Sol\", \"Luna\", \"Bento\", \"Enzo\", \"Fernanda\"]\n",
    "resultado = ordena_por_comprimento(lista_de_palavras)\n",
    "print(resultado)  # Saída: [['Sol', 'Joao', 'Jose', 'Luna', 'Enzo', 'Maria', 'Bento', 'Gabriela', 'Fernanda']\n",
    "\n",
    "\n",
    "\n",
    "\n"
   ]
  },
  {
   "cell_type": "markdown",
   "id": "8710b1a7",
   "metadata": {},
   "source": [
    "### Q4.\n",
    "\n",
    "Crie uma lista de listas (uma matriz de 2 dimensões) de tamanho $n \\times n$, com $n$ dado pelo usuário. Cada elemento da matriz deve ser o produto dos índices da linha pela coluna.\n",
    "\n",
    "Exemplo:\n",
    "```\n",
    "Digite n: 4\n",
    "Matriz:\n",
    "[[0, 0, 0, 0],\n",
    " [0, 1, 2, 3],\n",
    " [0, 2, 4, 6],\n",
    " [0, 3, 6, 9]]\n",
    "```"
   ]
  },
  {
   "cell_type": "code",
   "execution_count": null,
   "id": "397c66e0",
   "metadata": {},
   "outputs": [],
   "source": [
    "def criar_matriz(n):\n",
    "    # Cria a matriz com o produto dos índices da linha e coluna\n",
    "    matriz = [[i * j for j in range(n)] for i in range(n)]\n",
    "    return matriz\n",
    "\n",
    "# Solicita o valor de n ao usuário\n",
    "n = int(input(\"Digite n: \"))\n",
    "\n",
    "# Cria a matriz\n",
    "matriz = criar_matriz(n)\n",
    "\n",
    "# Exibe a matriz\n",
    "print(\"Matriz:\")\n",
    "for linha in matriz:\n",
    "    print(linha)"
   ]
  },
  {
   "cell_type": "markdown",
   "id": "f41781df",
   "metadata": {},
   "source": [
    "### Q5.\n",
    "\n",
    "Dada uma lista de números inteiros, implemente uma função em Python chamada ```pares_unicos``` que encontre e retorne todos os pares únicos de elementos na lista cuja soma seja igual a um determinado valor. Considere que a ordem dos pares não é relevante."
   ]
  },
  {
   "cell_type": "code",
   "execution_count": null,
   "id": "7a76f765",
   "metadata": {},
   "outputs": [],
   "source": [
    "def pares_unicos(numeros, soma_objetivo):\n",
    "    # Criar um conjunto para armazenar os pares únicos\n",
    "    pares = set()\n",
    "    # Criar um conjunto para verificar os números já vistos\n",
    "    vistos = set()\n",
    "    \n",
    "    for num in numeros:\n",
    "        complemento = soma_objetivo - num\n",
    "        if complemento in vistos:\n",
    "            # Ordenar o par para garantir a unicidade (ordem dos elementos não importa)\n",
    "            pares.add(tuple(sorted((num, complemento))))\n",
    "        vistos.add(num)\n",
    "    \n",
    "    return list(pares)\n",
    "\n",
    "# Exemplo de uso:\n",
    "nums = [3, 4, 5, 6, 7]\n",
    "soma = 10\n",
    "resultado = pares_unicos(nums, soma)\n",
    "print(resultado)  # Saída esperada: [(3, 7), (4, 6)]"
   ]
  },
  {
   "cell_type": "markdown",
   "id": "87e44893",
   "metadata": {},
   "source": [
    "### Q5.\n",
    "\n",
    "Escreva um programa para encontrar a diferença entre duas listas, incluindo elementos duplicados.\n",
    "\n",
    "Ex:\n",
    "```\n",
    "Listas originais: \n",
    "[1, 1, 2, 3, 3, 4, 4, 5, 6, 7]\n",
    "[1, 1, 2, 4, 5, 6]\n",
    "Diferença entre as listas:\n",
    "[3, 3, 4, 7]\n",
    "```"
   ]
  },
  {
   "cell_type": "code",
   "execution_count": null,
   "id": "7edc027c",
   "metadata": {},
   "outputs": [],
   "source": [
    "# Implemente sua solução aqui\n",
    "from collections import Counter\n",
    "\n",
    "def diferenca_listas(lista1, lista2):\n",
    "    # Conta a ocorrência de cada elemento nas listas\n",
    "    contador1 = Counter(lista1)\n",
    "    contador2 = Counter(lista2)\n",
    "    \n",
    "    # Calcula a diferença entre os contadores\n",
    "    diferenca = contador1 - contador2\n",
    "    \n",
    "    # Converte a diferença em uma lista, repetindo os elementos de acordo com a contagem\n",
    "    resultado = list(diferenca.elements())\n",
    "    \n",
    "    return resultado\n",
    "\n",
    "# Exemplo de uso:\n",
    "lista1 = [1, 1, 2, 3, 3, 4, 4, 5, 6, 7]\n",
    "lista2 = [1, 1, 2, 4, 5, 6]\n",
    "resultado = diferenca_listas(lista1, lista2)\n",
    "print(\"Diferença entre as listas:\", resultado)"
   ]
  },
  {
   "cell_type": "markdown",
   "id": "f4c4236d",
   "metadata": {},
   "source": [
    "### Q6.\n",
    "\n",
    "Dada uma lista aleatória, escreva um programa que separa os valores em listas menores de acordo com o tamanho solicitado. Caso não seja possível repartir igualmente a lista original, a última sublista deve conter os elementos remanescentes, como indicado no exemplo a seguir.\n",
    "\n",
    "Note que seu programa deve continuar executando em um laço infinito até que o usuário informe o tamanho 0 na entrada solicitada.\n",
    "\n",
    "```\n",
    "Lista original:\n",
    "[12, 45, 23, 67, 78, 90, 45, 32, 100, 76, 38, 62, 73, 29, 83]\n",
    "\n",
    "Tamanho para divisão: 3\n",
    "Subslistas:\n",
    "[[12, 45, 23], [67, 78, 90], [45, 32, 100], [76, 38, 62], [73, 29, 83]]\n",
    "\n",
    "Tamanho para divisão: 4\n",
    "Subslistas: [[12, 45, 23, 67], [78, 90, 45, 32], [100, 76, 38, 62], [73, 29, 83]]\n",
    "\n",
    "Tamanho para divisão: 0\n",
    "```"
   ]
  },
  {
   "cell_type": "code",
   "execution_count": null,
   "id": "792563de",
   "metadata": {},
   "outputs": [],
   "source": [
    "import random\n",
    "\n",
    "def dividir_lista(lista, tamanho):\n",
    "    # Dividir a lista em sublistas do tamanho especificado\n",
    "    return [lista[i:i + tamanho] for i in range(0, len(lista), tamanho)]\n",
    "\n",
    "# Gerar uma lista aleatória de 20 elementos\n",
    "lista = [random.randint(1, 100) for _ in range(20)]\n",
    "print(\"Lista original:\")\n",
    "print(lista)\n",
    "\n",
    "while True:\n",
    "    # Solicitar o tamanho da divisão ao usuário\n",
    "    tamanho = int(input(\"Tamanho para divisão: \"))\n",
    "    \n",
    "    if tamanho == 0:\n",
    "        print(\"Encerrando o programa.\")\n",
    "        break\n",
    "\n",
    "    sublistas = dividir_lista(lista, tamanho)\n",
    "    print(\"Sublistas:\")\n",
    "    print(sublistas)"
   ]
  },
  {
   "cell_type": "markdown",
   "id": "c65be32f",
   "metadata": {},
   "source": [
    "### Q7.\n",
    "\n",
    "Você está desenvolvendo um programa para determinar o vencedor de um jogo da velha. Escreva uma função ```avalia_tabuleiro()``` que recebe uma lista representando o estado atual do tabuleiro e determina se há um vencedor. \n",
    "\n",
    "A lista terá 3 sublistas, cada uma representando uma linha do tabuleiro. Cada elemento das sublistas pode ser 'X', 'O' ou vazio (' ').\n",
    "\n",
    "O programa deve imprimir o vencedor ('X', 'O'), se houver um, ou \"Empate\" se não houver vencedor. Um vencedor é determinado se houver três 'X' ou três 'O' em linha (horizontal, vertical ou diagonal).\n",
    "\n",
    "Exemplo:\n",
    "```python\n",
    "tabuleiro = [\n",
    "    ['X', 'O', 'X'],\n",
    "    [' ', 'X', 'O'],\n",
    "    ['O', ' ', 'O']\n",
    "]\n",
    "```\n",
    "O resultado seria \"Empate\", pois não há um vencedor no exemplo fornecido. \n",
    "\n",
    "Exemplo 2:\n",
    "```python\n",
    "tabuleiro = [\n",
    "    ['O', 'X', 'O'],\n",
    "    ['X', 'O', 'X'],\n",
    "    ['X', ' ', 'O']\n",
    "]\n",
    "```\n",
    "O resultado seria \"O\", pois 'O' venceu na diagonal central."
   ]
  },
  {
   "cell_type": "code",
   "execution_count": null,
   "id": "720ca24d",
   "metadata": {},
   "outputs": [],
   "source": [
    "def avalia_tabuleiro(tabuleiro):\n",
    "    \"\"\"\n",
    "    Avalia o estado atual do tabuleiro de jogo da velha e determina o vencedor.\n",
    "\n",
    "    Args:\n",
    "        tabuleiro: Uma lista de listas representando o tabuleiro.\n",
    "\n",
    "    Returns:\n",
    "        str: O vencedor ('X' ou 'O'), \"Empate\" caso não haja vencedor ou None se o jogo ainda não terminou.\n",
    "    \"\"\"\n",
    "\n",
    "    # Função auxiliar para verificar se há uma sequência de 3 símbolos iguais\n",
    "    def verifica_sequencia(lista):\n",
    "        return lista[0] == lista[1] == lista[2] != ' '\n",
    "\n",
    "    # Verifica linhas\n",
    "    for linha in tabuleiro:\n",
    "        if verifica_sequencia(linha):\n",
    "            return linha[0]\n",
    "\n",
    "    # Verifica colunas\n",
    "    for i in range(3):\n",
    "        coluna = [linha[i] for linha in tabuleiro]\n",
    "        if verifica_sequencia(coluna):\n",
    "            return coluna[0]\n",
    "\n",
    "    # Verifica diagonais\n",
    "    diagonal_principal = [tabuleiro[i][i] for i in range(3)]\n",
    "    diagonal_secundaria = [tabuleiro[i][2-i] for i in range(3)]\n",
    "    if verifica_sequencia(diagonal_principal) or verifica_sequencia(diagonal_secundaria):\n",
    "        return diagonal_principal[0] if verifica_sequencia(diagonal_principal) else diagonal_secundaria[0]\n",
    "\n",
    "    # Verifica se há espaços vazios (jogo ainda não terminou)\n",
    "    for linha in tabuleiro:\n",
    "        if ' ' in linha:\n",
    "            return None\n",
    "\n",
    "    # Se não houver vencedor e não houver espaços vazios, é empate\n",
    "    return \"Empate\"\n",
    "\n",
    "# Testando a função com os tabuleiros de exemplo\n",
    "tabuleiro1 = [\n",
    "    ['X', 'O', 'X'],\n",
    "    [' ', 'X', 'O'],\n",
    "    ['O', ' ', 'X']]\n",
    "tabuleiro2 = [\n",
    "    ['X', 'O', 'O'],\n",
    "    ['X', 'X', 'O'],\n",
    "    ['X', 'O', 'X']]\n",
    "tabuleiro3 = [\n",
    "    [' ', ' ', ' '],\n",
    "    ['X', ' ', 'O'],\n",
    "    ['O', 'X', 'X']]\n",
    "tabuleiro4 = [\n",
    "    ['O', 'O', 'O'],\n",
    "    ['X', ' ', 'X'],\n",
    "    ['O', 'X', 'X']]\n",
    "tabuleiro5 = [\n",
    "    ['X', 'X', 'O'],\n",
    "    ['X', ' ', 'O'],\n",
    "    ['O', 'O', 'X']]\n",
    "\n",
    "print(avalia_tabuleiro(tabuleiro1))  # Empate\n",
    "print(avalia_tabuleiro(tabuleiro2))  # O\n",
    "print(avalia_tabuleiro(tabuleiro3))  # None (jogo não terminado)\n",
    "print(avalia_tabuleiro(tabuleiro4))  # O\n",
    "print(avalia_tabuleiro(tabuleiro5))  # Empate"
   ]
  }
 ],
 "metadata": {
  "kernelspec": {
   "display_name": "Python 3 (ipykernel)",
   "language": "python",
   "name": "python3"
  },
  "language_info": {
   "codemirror_mode": {
    "name": "ipython",
    "version": 3
   },
   "file_extension": ".py",
   "mimetype": "text/x-python",
   "name": "python",
   "nbconvert_exporter": "python",
   "pygments_lexer": "ipython3",
   "version": "3.12.2"
  }
 },
 "nbformat": 4,
 "nbformat_minor": 5
}
